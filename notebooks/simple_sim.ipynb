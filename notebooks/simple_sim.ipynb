{
 "cells": [
  {
   "cell_type": "code",
   "execution_count": null,
   "id": "0b3fe97a-0a85-45ff-9951-6f2ffd489f94",
   "metadata": {
    "execution": {
     "iopub.execute_input": "2025-06-02T20:58:34.198588Z",
     "iopub.status.busy": "2025-06-02T20:58:34.197446Z",
     "iopub.status.idle": "2025-06-02T20:58:34.237939Z",
     "shell.execute_reply": "2025-06-02T20:58:34.237343Z",
     "shell.execute_reply.started": "2025-06-02T20:58:34.198543Z"
    },
    "tags": []
   },
   "outputs": [],
   "source": [
    "import numpy as np\n",
    "import pandas as pd\n",
    "import torch\n",
    "import torch.nn as nn\n",
    "import torch.nn.functional as F\n",
    "from sklearn.model_selection import train_test_split\n",
    "from tqdm import tqdm\n",
    "import matplotlib.pyplot as plt\n",
    "import corner\n",
    "import random\n",
    "from sbi.analysis import plot_summary\n",
    "from sbi.inference import NPE\n",
    "from sbi.utils.user_input_checks import (\n",
    "    check_sbi_inputs,\n",
    "    process_prior,\n",
    "    process_simulator,\n",
    ")\n",
    "from sbi.neural_nets import posterior_nn\n",
    "from sbi.utils.diagnostics_utils import get_posterior_samples_on_batch\n",
    "from sbi.diagnostics.tarp import _run_tarp, get_tarp_references\n",
    "from sbi.analysis import plot_tarp\n",
    "from Custom_prior import *\n",
    "from embedding_net import *\n",
    "import gc\n",
    "import pickle"
   ]
  },
  {
   "cell_type": "code",
   "execution_count": null,
   "id": "d463344d-b8bd-463b-97f0-3675120c1aed",
   "metadata": {
    "execution": {
     "iopub.execute_input": "2025-06-02T20:58:37.359826Z",
     "iopub.status.busy": "2025-06-02T20:58:37.358993Z",
     "iopub.status.idle": "2025-06-02T20:58:37.383064Z",
     "shell.execute_reply": "2025-06-02T20:58:37.382499Z",
     "shell.execute_reply.started": "2025-06-02T20:58:37.359787Z"
    },
    "tags": []
   },
   "outputs": [],
   "source": [
    "def set_random_seed(seed):\n",
    "    torch.manual_seed(seed)\n",
    "    torch.cuda.manual_seed(seed)\n",
    "    torch.backends.cudnn.deterministic = True\n",
    "    torch.backends.cudnn.benchmark = False\n",
    "    np.random.seed(seed)\n",
    "    random.seed(seed)\n",
    "\n",
    "\n",
    "set_random_seed(42)"
   ]
  },
  {
   "cell_type": "code",
   "execution_count": null,
   "id": "d3d45486-c1fd-43cb-8ddb-ef28f2122d0a",
   "metadata": {
    "execution": {
     "iopub.execute_input": "2025-06-02T20:58:39.817567Z",
     "iopub.status.busy": "2025-06-02T20:58:39.816593Z",
     "iopub.status.idle": "2025-06-02T20:58:39.903759Z",
     "shell.execute_reply": "2025-06-02T20:58:39.903148Z",
     "shell.execute_reply.started": "2025-06-02T20:58:39.817520Z"
    },
    "tags": []
   },
   "outputs": [],
   "source": [
    "device = \"cuda\" if torch.cuda.is_available() else \"cpu\"\n",
    "print(device)"
   ]
  },
  {
   "cell_type": "code",
   "execution_count": null,
   "id": "a02835a0-388c-4b1a-929a-23a5ab1060c6",
   "metadata": {
    "execution": {
     "iopub.execute_input": "2025-06-02T21:00:26.208482Z",
     "iopub.status.busy": "2025-06-02T21:00:26.207469Z",
     "iopub.status.idle": "2025-06-02T21:00:26.225490Z",
     "shell.execute_reply": "2025-06-02T21:00:26.224902Z",
     "shell.execute_reply.started": "2025-06-02T21:00:26.208442Z"
    },
    "tags": []
   },
   "outputs": [],
   "source": [
    "prior_path = \"/home/jupyter/datasphere/project/NN-Clusters/data/simple_data/prior.txt\"\n",
    "params_dict, param_names, lower_bound, upper_bound = get_prior(prior_path)\n",
    "print(param_names)"
   ]
  },
  {
   "cell_type": "code",
   "execution_count": null,
   "id": "6f3c32b2-bbaa-4c52-94b6-b4d929fdaa27",
   "metadata": {
    "execution": {
     "iopub.execute_input": "2025-06-02T21:00:29.284802Z",
     "iopub.status.busy": "2025-06-02T21:00:29.283875Z",
     "iopub.status.idle": "2025-06-02T21:00:29.304822Z",
     "shell.execute_reply": "2025-06-02T21:00:29.304019Z",
     "shell.execute_reply.started": "2025-06-02T21:00:29.284766Z"
    },
    "tags": []
   },
   "outputs": [],
   "source": [
    "nuisance_params = ['ob', 'h0', 'ns', 'r_cr_l', 'cr50', 'scr', 'gz']\n",
    "interest_params = []\n",
    "interest_lower = []\n",
    "interest_upper = []\n",
    "for i in range(len(param_names)):\n",
    "    if param_names[i] not in nuisance_params:\n",
    "        interest_params.append(param_names[i])\n",
    "        interest_lower.append(lower_bound[i])\n",
    "        interest_upper.append(upper_bound[i])\n",
    "print(interest_params)\n",
    "targets = interest_params\n",
    "prior = CustomPrior(params_dict, interest_params, return_numpy=False, device=device)"
   ]
  },
  {
   "cell_type": "code",
   "execution_count": null,
   "id": "24aba4db-cd80-4aae-8241-191289c0a632",
   "metadata": {
    "execution": {
     "iopub.execute_input": "2025-06-02T21:00:32.923487Z",
     "iopub.status.busy": "2025-06-02T21:00:32.922653Z",
     "iopub.status.idle": "2025-06-02T21:00:32.957860Z",
     "shell.execute_reply": "2025-06-02T21:00:32.957247Z",
     "shell.execute_reply.started": "2025-06-02T21:00:32.923456Z"
    },
    "tags": []
   },
   "outputs": [],
   "source": [
    "low_bound = interest_lower\n",
    "high_bound = interest_upper\n",
    "\n",
    "mean_prior = prior.mean\n",
    "std_prior = torch.sqrt(prior.variance)\n",
    "\n",
    "\n",
    "low_bound = torch.tensor(low_bound)\n",
    "high_bound = torch.tensor(high_bound)"
   ]
  },
  {
   "cell_type": "code",
   "execution_count": null,
   "id": "fb322ae3-1273-483a-b9f7-2bca358e4d13",
   "metadata": {
    "execution": {
     "iopub.execute_input": "2025-06-02T21:00:44.556197Z",
     "iopub.status.busy": "2025-06-02T21:00:44.555115Z",
     "iopub.status.idle": "2025-06-02T21:00:55.153414Z",
     "shell.execute_reply": "2025-06-02T21:00:55.152765Z",
     "shell.execute_reply.started": "2025-06-02T21:00:44.556156Z"
    },
    "tags": []
   },
   "outputs": [],
   "source": [
    "path = \"/home/jupyter/datasphere/project/NN-Clusters/data/simple_data/samples/\"\n",
    "targets = interest_params\n",
    "\n",
    "X = []\n",
    "y = []\n",
    "for i in range(10):\n",
    "    X.append(np.load(path + f\"x_{i}.npz\")['arr_0'])\n",
    "    y.append(np.load(path + f\"thetas_{i}.npy\"))\n",
    "    \n",
    "X = np.vstack(X)\n",
    "y = np.vstack(y)"
   ]
  },
  {
   "cell_type": "code",
   "execution_count": null,
   "id": "33e2eb02-08c6-4cca-8212-aeeb9374a8b1",
   "metadata": {
    "execution": {
     "iopub.execute_input": "2025-06-02T20:58:56.614005Z",
     "iopub.status.busy": "2025-06-02T20:58:56.613207Z",
     "iopub.status.idle": "2025-06-02T20:58:56.649175Z",
     "shell.execute_reply": "2025-06-02T20:58:56.648529Z",
     "shell.execute_reply.started": "2025-06-02T20:58:56.613961Z"
    },
    "tags": []
   },
   "outputs": [],
   "source": [
    "y = pd.DataFrame(y, columns=param_names)\n",
    "y = y[interest_params].to_numpy()"
   ]
  },
  {
   "cell_type": "code",
   "execution_count": null,
   "id": "c311bdb2-641b-407a-9f1c-b6a26e759dfe",
   "metadata": {
    "execution": {
     "iopub.execute_input": "2025-06-02T20:58:56.650823Z",
     "iopub.status.busy": "2025-06-02T20:58:56.649940Z",
     "iopub.status.idle": "2025-06-02T20:58:57.788523Z",
     "shell.execute_reply": "2025-06-02T20:58:57.787955Z",
     "shell.execute_reply.started": "2025-06-02T20:58:56.650782Z"
    },
    "tags": []
   },
   "outputs": [],
   "source": [
    "X_train, X_test, y_train, y_test = train_test_split(X, y, test_size=0.1, random_state=42)\n",
    "del X, y\n",
    "gc.collect();"
   ]
  },
  {
   "cell_type": "code",
   "execution_count": null,
   "id": "c483adae-4d3a-476a-8fe0-d1a27135ad9f",
   "metadata": {
    "execution": {
     "iopub.execute_input": "2025-06-02T20:58:57.790282Z",
     "iopub.status.busy": "2025-06-02T20:58:57.789712Z",
     "iopub.status.idle": "2025-06-02T20:58:58.186206Z",
     "shell.execute_reply": "2025-06-02T20:58:58.185327Z",
     "shell.execute_reply.started": "2025-06-02T20:58:57.790250Z"
    },
    "tags": []
   },
   "outputs": [],
   "source": [
    "X_train = torch.tensor(X_train, dtype=torch.float32)\n",
    "y_train = torch.tensor(y_train, dtype=torch.float32)\n",
    "\n",
    "X_test = torch.tensor(X_test, dtype=torch.float32)\n",
    "y_test = torch.tensor(y_test, dtype=torch.float32)"
   ]
  },
  {
   "cell_type": "code",
   "execution_count": null,
   "id": "506a2d92-e7a6-47a1-90d6-81b75c73739a",
   "metadata": {
    "execution": {
     "iopub.execute_input": "2025-06-02T20:58:58.187682Z",
     "iopub.status.busy": "2025-06-02T20:58:58.187021Z",
     "iopub.status.idle": "2025-06-02T20:58:58.198478Z",
     "shell.execute_reply": "2025-06-02T20:58:58.197894Z",
     "shell.execute_reply.started": "2025-06-02T20:58:58.187648Z"
    },
    "tags": []
   },
   "outputs": [],
   "source": [
    "X_train.shape"
   ]
  },
  {
   "cell_type": "code",
   "execution_count": null,
   "id": "f64ad353-c3b9-4857-beed-4edee57697f2",
   "metadata": {
    "execution": {
     "iopub.execute_input": "2025-06-02T20:58:58.200021Z",
     "iopub.status.busy": "2025-06-02T20:58:58.199218Z",
     "iopub.status.idle": "2025-06-02T20:58:58.461495Z",
     "shell.execute_reply": "2025-06-02T20:58:58.460789Z",
     "shell.execute_reply.started": "2025-06-02T20:58:58.199986Z"
    },
    "tags": []
   },
   "outputs": [],
   "source": [
    "prior, num_parameters, prior_returns_numpy = process_prior(prior,\n",
    "                      custom_prior_wrapper_kwargs=dict(\n",
    "                          lower_bound=torch.tensor(interest_lower).to(device), \n",
    "                          upper_bound=torch.tensor(interest_upper).to(device)\n",
    "                      )\n",
    ")"
   ]
  },
  {
   "cell_type": "code",
   "execution_count": null,
   "id": "ae6a5f76-437d-433c-a71d-9fa932d4362a",
   "metadata": {
    "execution": {
     "iopub.execute_input": "2025-06-02T20:58:58.462793Z",
     "iopub.status.busy": "2025-06-02T20:58:58.462270Z",
     "iopub.status.idle": "2025-06-02T20:59:11.286217Z",
     "shell.execute_reply": "2025-06-02T20:59:11.285565Z",
     "shell.execute_reply.started": "2025-06-02T20:58:58.462756Z"
    },
    "tags": []
   },
   "outputs": [],
   "source": [
    "set_random_seed(42)\n",
    "embedding = EMBEDDING_NET(len(targets))\n",
    "neural_posterior = posterior_nn(model=\"nsf\", device=device, embedding_net=embedding, z_score_x='none')\n",
    "inference = NPE(prior=prior, device=device, density_estimator=neural_posterior)\n",
    "inference = inference.append_simulations(y_train.float(), X_train.float(), data_device=\"cpu\")"
   ]
  },
  {
   "cell_type": "code",
   "execution_count": null,
   "id": "28a0061e-edb1-4ad9-b193-898c5f8abe46",
   "metadata": {
    "collapsed": true,
    "execution": {
     "iopub.execute_input": "2025-06-02T20:22:10.502856Z",
     "iopub.status.busy": "2025-06-02T20:22:10.501910Z",
     "iopub.status.idle": "2025-06-02T20:24:47.991249Z",
     "shell.execute_reply": "2025-06-02T20:24:47.990033Z",
     "shell.execute_reply.started": "2025-06-02T20:22:10.502817Z"
    },
    "jupyter": {
     "outputs_hidden": true
    },
    "tags": []
   },
   "outputs": [],
   "source": [
    "density_estimator = inference.train(\n",
    "    show_train_summary=True, \n",
    "    training_batch_size=4096, \n",
    "    stop_after_epochs=50,\n",
    "    max_num_epochs=1800,\n",
    "    learning_rate=1e-4\n",
    ")"
   ]
  },
  {
   "cell_type": "code",
   "execution_count": null,
   "id": "352f3b3b-6338-40a2-8392-82f33392710c",
   "metadata": {},
   "outputs": [],
   "source": [
    "plot_summary(inference, tags=['training_loss', 'validation_loss'], disable_tensorboard_prompt=True)"
   ]
  },
  {
   "cell_type": "code",
   "execution_count": null,
   "id": "b06ad1e1-89f2-43f3-b620-aa7db388c144",
   "metadata": {
    "execution": {
     "iopub.execute_input": "2025-06-02T20:24:56.513611Z",
     "iopub.status.busy": "2025-06-02T20:24:56.512733Z",
     "iopub.status.idle": "2025-06-02T20:24:56.632976Z",
     "shell.execute_reply": "2025-06-02T20:24:56.632236Z",
     "shell.execute_reply.started": "2025-06-02T20:24:56.513579Z"
    }
   },
   "outputs": [],
   "source": [
    "posterior = inference.build_posterior()"
   ]
  },
  {
   "cell_type": "code",
   "execution_count": null,
   "id": "5a1aae4f-6e71-4ea6-8c3d-7aa9de76c8e6",
   "metadata": {
    "collapsed": true,
    "execution": {
     "iopub.execute_input": "2025-06-02T20:25:02.730509Z",
     "iopub.status.busy": "2025-06-02T20:25:02.729552Z",
     "iopub.status.idle": "2025-06-02T20:25:08.509862Z",
     "shell.execute_reply": "2025-06-02T20:25:08.508734Z",
     "shell.execute_reply.started": "2025-06-02T20:25:02.730473Z"
    },
    "jupyter": {
     "outputs_hidden": true
    },
    "tags": []
   },
   "outputs": [],
   "source": [
    "posterior_samples =[]\n",
    "\n",
    "for i in tqdm(range(len(X_test))):\n",
    "    x = X_test[i]\n",
    "    samples = posterior.sample((2000,), x=x.unsqueeze(0).to(device), show_progress_bars=False).cpu()\n",
    "    posterior_samples.append(samples)\n",
    "\n",
    "posterior_samples = torch.swapaxes(torch.stack(posterior_samples), 0, 1)"
   ]
  },
  {
   "cell_type": "code",
   "execution_count": null,
   "id": "e19d7125-826d-4d57-a673-7f05c8128c73",
   "metadata": {},
   "outputs": [],
   "source": [
    "references = get_tarp_references(\n",
    "    y_stack,\n",
    ").to(device)\n",
    "\n",
    "expected_coverage, ideal_coverage = _run_tarp(\n",
    "    posterior_samples.cpu(),\n",
    "    y_stack.cpu(),\n",
    "    references.cpu(),\n",
    "    z_score_theta=True,\n",
    ")\n",
    "fix, axes = plot_tarp(expected_coverage, ideal_coverage)\n",
    "plt.show()"
   ]
  },
  {
   "cell_type": "code",
   "execution_count": null,
   "id": "ae6d8acf-80b3-415f-b0b0-e5e173fa0a8a",
   "metadata": {
    "execution": {
     "iopub.execute_input": "2025-06-02T20:26:11.845848Z",
     "iopub.status.busy": "2025-06-02T20:26:11.844936Z",
     "iopub.status.idle": "2025-06-02T20:26:11.862297Z",
     "shell.execute_reply": "2025-06-02T20:26:11.861653Z",
     "shell.execute_reply.started": "2025-06-02T20:26:11.845817Z"
    },
    "tags": []
   },
   "outputs": [],
   "source": [
    "x_id = np.load(\"/home/jupyter/datasphere/project/NN-Clusters/data/simple_data/sample.npy\")\n",
    "print(x_id.sum())\n",
    "x_id = torch.tensor(x_id, dtype=torch.float32)\n",
    "x_id = x_id.unsqueeze(0).to(device)"
   ]
  },
  {
   "cell_type": "code",
   "execution_count": null,
   "id": "476b3493-12c4-44a4-9aaa-15d5882418e9",
   "metadata": {
    "execution": {
     "iopub.execute_input": "2025-06-02T20:26:29.695508Z",
     "iopub.status.busy": "2025-06-02T20:26:29.694573Z",
     "iopub.status.idle": "2025-06-02T20:26:33.911772Z",
     "shell.execute_reply": "2025-06-02T20:26:33.911048Z",
     "shell.execute_reply.started": "2025-06-02T20:26:29.695473Z"
    }
   },
   "outputs": [],
   "source": [
    "mcmc_samples = np.load(\"/home/jupyter/datasphere/project/NN-Clusters/data/simple_data/mcmc.npy\")[::10]\n",
    "mcmc_samples = pd.DataFrame(mcmc_samples, columns=param_names)\n",
    "mcmc_samples = mcmc_samples[interest_params].to_numpy()\n",
    "samples = posterior.sample((len(mcmc_samples),), x=x_id).cpu()"
   ]
  },
  {
   "cell_type": "code",
   "execution_count": null,
   "id": "e88ed8fb-159c-4e2a-b41d-dde1427d55ad",
   "metadata": {
    "execution": {
     "iopub.execute_input": "2025-06-02T20:29:36.758417Z",
     "iopub.status.busy": "2025-06-02T20:29:36.757723Z",
     "iopub.status.idle": "2025-06-02T20:29:43.894043Z",
     "shell.execute_reply": "2025-06-02T20:29:43.893240Z",
     "shell.execute_reply.started": "2025-06-02T20:29:36.758392Z"
    },
    "tags": []
   },
   "outputs": [],
   "source": [
    "figure = corner.corner(samples.numpy(), \n",
    "    quantiles=[0.16, 0.5, 0.84], \n",
    "    labels=targets, \n",
    "    show_titles=True, \n",
    "    levels=(0.68, 0.95),\n",
    "    truths=np.array([0.32, 0.83, 0.12, 1.7, 0.33, 41, 1.3, 0.3]),\n",
    "    smooth=True\n",
    ");\n",
    "\n",
    "corner.corner(\n",
    "    mcmc_samples, \n",
    "    quantiles=[0.16, 0.5, 0.84], \n",
    "    labels=targets, \n",
    "    show_titles=True, \n",
    "    levels=(0.68, 0.95),\n",
    "    fig=figure, color='red',\n",
    "    smooth=True\n",
    ");"
   ]
  },
  {
   "cell_type": "code",
   "execution_count": null,
   "id": "3bb8ab25-e625-43d8-bae8-9556a1310c11",
   "metadata": {
    "execution": {
     "iopub.execute_input": "2025-06-02T20:28:32.984050Z",
     "iopub.status.busy": "2025-06-02T20:28:32.983249Z",
     "iopub.status.idle": "2025-06-02T20:28:33.079118Z",
     "shell.execute_reply": "2025-06-02T20:28:33.078387Z",
     "shell.execute_reply.started": "2025-06-02T20:28:32.984023Z"
    },
    "tags": []
   },
   "outputs": [],
   "source": [
    "with open(\"/home/jupyter/datasphere/project/NN-Clusters/models/simple_test_posterior.pkl\", \"wb\") as handle:\n",
    "    pickle.dump(posterior, handle)"
   ]
  },
  {
   "cell_type": "code",
   "execution_count": null,
   "id": "48a45bbf-a74a-4d3a-b212-7a08b239e1e6",
   "metadata": {},
   "outputs": [],
   "source": []
  }
 ],
 "metadata": {
  "kernelspec": {
   "display_name": "DataSphere Kernel",
   "language": "python",
   "name": "python3"
  },
  "language_info": {
   "codemirror_mode": {
    "name": "ipython",
    "version": 3
   },
   "file_extension": ".py",
   "mimetype": "text/x-python",
   "name": "python",
   "nbconvert_exporter": "python",
   "pygments_lexer": "ipython3",
   "version": "3.10.12"
  }
 },
 "nbformat": 4,
 "nbformat_minor": 5
}
