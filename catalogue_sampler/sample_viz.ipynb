{
 "cells": [
  {
   "cell_type": "code",
   "execution_count": 2,
   "metadata": {},
   "outputs": [],
   "source": [
    "import numpy as np\n",
    "import matplotlib.pyplot as plt\n",
    "import pandas as pd\n",
    "import seaborn as sns\n",
    "from sample_generator import generate_sample\n",
    "from uniform_prior_sampler import uniform_prior"
   ]
  },
  {
   "cell_type": "code",
   "execution_count": 36,
   "metadata": {},
   "outputs": [],
   "source": [
    "true_pars = uniform_prior()"
   ]
  },
  {
   "cell_type": "code",
   "execution_count": 37,
   "metadata": {},
   "outputs": [
    {
     "name": "stdout",
     "output_type": "stream",
     "text": [
      "{'omega_m': 0.19797310459089723, 'sigma_8': 0.7142791118586115, 'h0': 76.74505011229456, 'ns': 0.9945571256688572, 'ob': 0.04752379422873177, 'a_cr': 0.24342929146521292, 'b_cr': 1.249327265552909, 'delta_cr': -0.1622041106900025, 'gamma_cr': 2.038218643710607, 'sigma_cr': 0.38058734949366246, 'a_l': 45.42804231119087, 'b_l': 2.6052123635657347, 'delta_l': 0.7011744988856159, 'gamma_l': 1.8584561549506544, 'sigma_l': 0.9185105295449638, 'r_cr_l': 0.447280283548963}\n"
     ]
    }
   ],
   "source": [
    "print(true_pars)"
   ]
  },
  {
   "cell_type": "code",
   "execution_count": 38,
   "metadata": {},
   "outputs": [],
   "source": [
    "cat = generate_sample(true_pars)"
   ]
  },
  {
   "cell_type": "code",
   "execution_count": 39,
   "metadata": {},
   "outputs": [
    {
     "data": {
      "text/plain": [
       "965"
      ]
     },
     "execution_count": 39,
     "metadata": {},
     "output_type": "execute_result"
    }
   ],
   "source": [
    "len(cat)"
   ]
  },
  {
   "cell_type": "code",
   "execution_count": 40,
   "metadata": {},
   "outputs": [],
   "source": [
    "df = pd.DataFrame(cat, columns=[\"Z\", \"CR\", \"LAMBDA\", \"EXP\"])"
   ]
  },
  {
   "cell_type": "code",
   "execution_count": 41,
   "metadata": {},
   "outputs": [
    {
     "data": {
      "application/vnd.microsoft.datawrangler.viewer.v0+json": {
       "columns": [
        {
         "name": "index",
         "rawType": "object",
         "type": "string"
        },
        {
         "name": "Z",
         "rawType": "float64",
         "type": "float"
        },
        {
         "name": "CR",
         "rawType": "float64",
         "type": "float"
        },
        {
         "name": "LAMBDA",
         "rawType": "float64",
         "type": "float"
        },
        {
         "name": "EXP",
         "rawType": "float64",
         "type": "float"
        }
       ],
       "conversionMethod": "pd.DataFrame",
       "ref": "b16181df-1bd9-4018-9f57-6a23f4d2acb1",
       "rows": [
        [
         "count",
         "965.0",
         "965.0",
         "965.0",
         "965.0"
        ],
        [
         "mean",
         "0.29220640659332275",
         "0.5522021651268005",
         "52.44292068481445",
         "345.81207275390625"
        ],
        [
         "std",
         "0.14761431515216827",
         "0.542194128036499",
         "63.07683181762695",
         "328.7540588378906"
        ],
        [
         "min",
         "0.10000238567590714",
         "0.023344416171312332",
         "3.0055713653564453",
         "72.67990112304688"
        ],
        [
         "25%",
         "0.17446368932724",
         "0.19520197808742523",
         "9.310049057006836",
         "144.8467559814453"
        ],
        [
         "50%",
         "0.2517879009246826",
         "0.3910798728466034",
         "26.14997100830078",
         "216.68865966796875"
        ],
        [
         "75%",
         "0.3791082799434662",
         "0.6936055421829224",
         "70.1479263305664",
         "412.8367614746094"
        ],
        [
         "max",
         "0.7890041470527649",
         "4.624203205108643",
         "296.8289489746094",
         "2248.887451171875"
        ]
       ],
       "shape": {
        "columns": 4,
        "rows": 8
       }
      },
      "text/html": [
       "<div>\n",
       "<style scoped>\n",
       "    .dataframe tbody tr th:only-of-type {\n",
       "        vertical-align: middle;\n",
       "    }\n",
       "\n",
       "    .dataframe tbody tr th {\n",
       "        vertical-align: top;\n",
       "    }\n",
       "\n",
       "    .dataframe thead th {\n",
       "        text-align: right;\n",
       "    }\n",
       "</style>\n",
       "<table border=\"1\" class=\"dataframe\">\n",
       "  <thead>\n",
       "    <tr style=\"text-align: right;\">\n",
       "      <th></th>\n",
       "      <th>Z</th>\n",
       "      <th>CR</th>\n",
       "      <th>LAMBDA</th>\n",
       "      <th>EXP</th>\n",
       "    </tr>\n",
       "  </thead>\n",
       "  <tbody>\n",
       "    <tr>\n",
       "      <th>count</th>\n",
       "      <td>965.000000</td>\n",
       "      <td>965.000000</td>\n",
       "      <td>965.000000</td>\n",
       "      <td>965.000000</td>\n",
       "    </tr>\n",
       "    <tr>\n",
       "      <th>mean</th>\n",
       "      <td>0.292206</td>\n",
       "      <td>0.552202</td>\n",
       "      <td>52.442921</td>\n",
       "      <td>345.812073</td>\n",
       "    </tr>\n",
       "    <tr>\n",
       "      <th>std</th>\n",
       "      <td>0.147614</td>\n",
       "      <td>0.542194</td>\n",
       "      <td>63.076832</td>\n",
       "      <td>328.754059</td>\n",
       "    </tr>\n",
       "    <tr>\n",
       "      <th>min</th>\n",
       "      <td>0.100002</td>\n",
       "      <td>0.023344</td>\n",
       "      <td>3.005571</td>\n",
       "      <td>72.679901</td>\n",
       "    </tr>\n",
       "    <tr>\n",
       "      <th>25%</th>\n",
       "      <td>0.174464</td>\n",
       "      <td>0.195202</td>\n",
       "      <td>9.310049</td>\n",
       "      <td>144.846756</td>\n",
       "    </tr>\n",
       "    <tr>\n",
       "      <th>50%</th>\n",
       "      <td>0.251788</td>\n",
       "      <td>0.391080</td>\n",
       "      <td>26.149971</td>\n",
       "      <td>216.688660</td>\n",
       "    </tr>\n",
       "    <tr>\n",
       "      <th>75%</th>\n",
       "      <td>0.379108</td>\n",
       "      <td>0.693606</td>\n",
       "      <td>70.147926</td>\n",
       "      <td>412.836761</td>\n",
       "    </tr>\n",
       "    <tr>\n",
       "      <th>max</th>\n",
       "      <td>0.789004</td>\n",
       "      <td>4.624203</td>\n",
       "      <td>296.828949</td>\n",
       "      <td>2248.887451</td>\n",
       "    </tr>\n",
       "  </tbody>\n",
       "</table>\n",
       "</div>"
      ],
      "text/plain": [
       "                Z          CR      LAMBDA          EXP\n",
       "count  965.000000  965.000000  965.000000   965.000000\n",
       "mean     0.292206    0.552202   52.442921   345.812073\n",
       "std      0.147614    0.542194   63.076832   328.754059\n",
       "min      0.100002    0.023344    3.005571    72.679901\n",
       "25%      0.174464    0.195202    9.310049   144.846756\n",
       "50%      0.251788    0.391080   26.149971   216.688660\n",
       "75%      0.379108    0.693606   70.147926   412.836761\n",
       "max      0.789004    4.624203  296.828949  2248.887451"
      ]
     },
     "execution_count": 41,
     "metadata": {},
     "output_type": "execute_result"
    }
   ],
   "source": [
    "df.describe()"
   ]
  },
  {
   "cell_type": "code",
   "execution_count": 42,
   "metadata": {},
   "outputs": [
    {
     "data": {
      "image/png": "[encoded data removed]",
      "text/plain": [
       "<Figure size 432x288 with 1 Axes>"
      ]
     },
     "metadata": {
      "needs_background": "light"
     },
     "output_type": "display_data"
    }
   ],
   "source": [
    "plt.hist(df[\"CR\"], bins='auto')\n",
    "plt.show()"
   ]
  },
  {
   "cell_type": "code",
   "execution_count": 43,
   "metadata": {},
   "outputs": [
    {
     "data": {
      "image/png": "[encoded data removed]",
      "text/plain": [
       "<Figure size 432x288 with 1 Axes>"
      ]
     },
     "metadata": {
      "needs_background": "light"
     },
     "output_type": "display_data"
    }
   ],
   "source": [
    "plt.hist(np.log(df[\"LAMBDA\"]), bins='auto')\n",
    "plt.show()"
   ]
  },
  {
   "cell_type": "code",
   "execution_count": 44,
   "metadata": {},
   "outputs": [
    {
     "data": {
      "text/plain": [
       "72.6799"
      ]
     },
     "execution_count": 44,
     "metadata": {},
     "output_type": "execute_result"
    }
   ],
   "source": [
    "df[\"EXP\"].min()"
   ]
  },
  {
   "cell_type": "code",
   "execution_count": 26,
   "metadata": {},
   "outputs": [
    {
     "data": {
      "image/png": "[encoded data removed]",
      "text/plain": [
       "<Figure size 432x288 with 1 Axes>"
      ]
     },
     "metadata": {
      "needs_background": "light"
     },
     "output_type": "display_data"
    }
   ],
   "source": [
    "plt.hist2d(df[\"CR\"], np.log(df[\"Z\"]), bins=20)\n",
    "plt.show()"
   ]
  },
  {
   "cell_type": "code",
   "execution_count": 27,
   "metadata": {},
   "outputs": [
    {
     "data": {
      "image/png": "[encoded data removed]",
      "text/plain": [
       "<Figure size 432x288 with 1 Axes>"
      ]
     },
     "metadata": {
      "needs_background": "light"
     },
     "output_type": "display_data"
    }
   ],
   "source": [
    "plt.hist(np.log10(df[\"EXP\"]), bins=100, density=True)\n",
    "plt.show()"
   ]
  },
  {
   "cell_type": "code",
   "execution_count": 28,
   "metadata": {},
   "outputs": [
    {
     "data": {
      "image/png": "[encoded data removed]",
      "text/plain": [
       "<Figure size 432x288 with 1 Axes>"
      ]
     },
     "metadata": {
      "needs_background": "light"
     },
     "output_type": "display_data"
    }
   ],
   "source": [
    "plt.hist(df[\"Z\"], bins='auto')\n",
    "plt.show()"
   ]
  },
  {
   "cell_type": "code",
   "execution_count": 15,
   "metadata": {},
   "outputs": [
    {
     "data": {
      "text/plain": [
       "<seaborn.axisgrid.PairGrid at 0x19030556dd8>"
      ]
     },
     "execution_count": 15,
     "metadata": {},
     "output_type": "execute_result"
    },
    {
     "data": {
      "image/png": "[encoded data removed]",
      "text/plain": [
       "<Figure size 540x540 with 12 Axes>"
      ]
     },
     "metadata": {
      "needs_background": "light"
     },
     "output_type": "display_data"
    }
   ],
   "source": [
    "g = sns.PairGrid(\n",
    "    df[df[\"CR\"]>0.01].rename(columns={\"LAMBDA\": r\"$\\lambda$\"})[[\"CR\", r\"$\\lambda$\", 'Z']], \n",
    "    diag_sharey=False)\n",
    "g.map_lower(sns.histplot, log_scale=True, bins=30)\n",
    "g.map_diag(sns.histplot, log_scale=True, bins=30)\n",
    "g.map_upper(sns.kdeplot, fill=True, log_scale=True)"
   ]
  },
  {
   "cell_type": "code",
   "execution_count": null,
   "metadata": {},
   "outputs": [],
   "source": []
  }
 ],
 "metadata": {
  "kernelspec": {
   "display_name": "Python 3",
   "language": "python",
   "name": "python3"
  },
  "language_info": {
   "codemirror_mode": {
    "name": "ipython",
    "version": 3
   },
   "file_extension": ".py",
   "mimetype": "text/x-python",
   "name": "python",
   "nbconvert_exporter": "python",
   "pygments_lexer": "ipython3",
   "version": "3.6.8"
  }
 },
 "nbformat": 4,
 "nbformat_minor": 2
}
