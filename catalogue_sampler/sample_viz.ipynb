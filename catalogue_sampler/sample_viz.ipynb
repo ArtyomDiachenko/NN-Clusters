{
 "cells": [
  {
   "cell_type": "code",
   "execution_count": 1,
   "metadata": {},
   "outputs": [],
   "source": [
    "import numpy as np\n",
    "import matplotlib.pyplot as plt\n",
    "import pandas as pd\n",
    "import seaborn as sns\n",
    "from sample_generator import generate_sample"
   ]
  },
  {
   "cell_type": "code",
   "execution_count": 2,
   "metadata": {},
   "outputs": [],
   "source": [
    "true_pars = {}\n",
    "with open(r'C:\\Users\\Артем\\Documents\\GitHub\\NN-Clusters\\catalogue_sampler\\true_cosmo_pars.txt', 'r') as f:\n",
    "    for line in f:\n",
    "        line = line.split()\n",
    "        true_pars[line[0]] = float(line[1])"
   ]
  },
  {
   "cell_type": "code",
   "execution_count": 3,
   "metadata": {},
   "outputs": [
    {
     "name": "stdout",
     "output_type": "stream",
     "text": [
      "{'omega_m': 0.3, 'sigma_8': 0.8, 'h0': 70.0, 'ns': 0.95, 'ob': 0.03, 'a_cr': 0.1, 'b_cr': 2.0, 'delta_cr': 0.4, 'gamma_cr': -0.4, 'sigma_cr': 0.3, 'a_l': 40.0, 'b_l': 2.0, 'delta_l': -0.69, 'gamma_l': -0.85, 'sigma_l': 1.0, 'r_cr_l': 0.0}\n"
     ]
    }
   ],
   "source": [
    "print(true_pars)"
   ]
  },
  {
   "cell_type": "code",
   "execution_count": 4,
   "metadata": {},
   "outputs": [],
   "source": [
    "cat = generate_sample(true_pars)"
   ]
  },
  {
   "cell_type": "code",
   "execution_count": 5,
   "metadata": {},
   "outputs": [
    {
     "data": {
      "text/plain": [
       "1113"
      ]
     },
     "execution_count": 5,
     "metadata": {},
     "output_type": "execute_result"
    }
   ],
   "source": [
    "len(cat)"
   ]
  },
  {
   "cell_type": "code",
   "execution_count": 6,
   "metadata": {},
   "outputs": [],
   "source": [
    "df = pd.DataFrame(cat, columns=[\"Z\", \"CR\", \"LAMBDA\", \"EXP\"])"
   ]
  },
  {
   "cell_type": "code",
   "execution_count": 7,
   "metadata": {},
   "outputs": [
    {
     "data": {
      "application/vnd.microsoft.datawrangler.viewer.v0+json": {
       "columns": [
        {
         "name": "index",
         "rawType": "object",
         "type": "string"
        },
        {
         "name": "Z",
         "rawType": "float64",
         "type": "float"
        },
        {
         "name": "CR",
         "rawType": "float64",
         "type": "float"
        },
        {
         "name": "LAMBDA",
         "rawType": "float64",
         "type": "float"
        },
        {
         "name": "EXP",
         "rawType": "float64",
         "type": "float"
        }
       ],
       "conversionMethod": "pd.DataFrame",
       "ref": "c1946e13-55ac-4569-be01-62b4a3569045",
       "rows": [
        [
         "count",
         "1113.0",
         "1113.0",
         "1113.0",
         "1113.0"
        ],
        [
         "mean",
         "0.24631911516189575",
         "0.7420121431350708",
         "108.16730499267578",
         "314.0825500488281"
        ],
        [
         "std",
         "0.1281740367412567",
         "0.9125640988349915",
         "78.58260345458984",
         "333.3108215332031"
        ],
        [
         "min",
         "0.10021945834159851",
         "0.020963115617632866",
         "3.1967124938964844",
         "66.76651000976562"
        ],
        [
         "25%",
         "0.14758078753948212",
         "0.2794097065925598",
         "39.569210052490234",
         "134.0867919921875"
        ],
        [
         "50%",
         "0.20999421179294586",
         "0.5291782021522522",
         "94.0399169921875",
         "176.69558715820312"
        ],
        [
         "75%",
         "0.307243287563324",
         "0.9083606004714966",
         "162.8900604248047",
         "352.3193359375"
        ],
        [
         "max",
         "0.752782940864563",
         "12.421135902404785",
         "299.1809387207031",
         "2418.110595703125"
        ]
       ],
       "shape": {
        "columns": 4,
        "rows": 8
       }
      },
      "text/html": [
       "<div>\n",
       "<style scoped>\n",
       "    .dataframe tbody tr th:only-of-type {\n",
       "        vertical-align: middle;\n",
       "    }\n",
       "\n",
       "    .dataframe tbody tr th {\n",
       "        vertical-align: top;\n",
       "    }\n",
       "\n",
       "    .dataframe thead th {\n",
       "        text-align: right;\n",
       "    }\n",
       "</style>\n",
       "<table border=\"1\" class=\"dataframe\">\n",
       "  <thead>\n",
       "    <tr style=\"text-align: right;\">\n",
       "      <th></th>\n",
       "      <th>Z</th>\n",
       "      <th>CR</th>\n",
       "      <th>LAMBDA</th>\n",
       "      <th>EXP</th>\n",
       "    </tr>\n",
       "  </thead>\n",
       "  <tbody>\n",
       "    <tr>\n",
       "      <th>count</th>\n",
       "      <td>1113.000000</td>\n",
       "      <td>1113.000000</td>\n",
       "      <td>1113.000000</td>\n",
       "      <td>1113.000000</td>\n",
       "    </tr>\n",
       "    <tr>\n",
       "      <th>mean</th>\n",
       "      <td>0.246319</td>\n",
       "      <td>0.742012</td>\n",
       "      <td>108.167305</td>\n",
       "      <td>314.082550</td>\n",
       "    </tr>\n",
       "    <tr>\n",
       "      <th>std</th>\n",
       "      <td>0.128174</td>\n",
       "      <td>0.912564</td>\n",
       "      <td>78.582603</td>\n",
       "      <td>333.310822</td>\n",
       "    </tr>\n",
       "    <tr>\n",
       "      <th>min</th>\n",
       "      <td>0.100219</td>\n",
       "      <td>0.020963</td>\n",
       "      <td>3.196712</td>\n",
       "      <td>66.766510</td>\n",
       "    </tr>\n",
       "    <tr>\n",
       "      <th>25%</th>\n",
       "      <td>0.147581</td>\n",
       "      <td>0.279410</td>\n",
       "      <td>39.569210</td>\n",
       "      <td>134.086792</td>\n",
       "    </tr>\n",
       "    <tr>\n",
       "      <th>50%</th>\n",
       "      <td>0.209994</td>\n",
       "      <td>0.529178</td>\n",
       "      <td>94.039917</td>\n",
       "      <td>176.695587</td>\n",
       "    </tr>\n",
       "    <tr>\n",
       "      <th>75%</th>\n",
       "      <td>0.307243</td>\n",
       "      <td>0.908361</td>\n",
       "      <td>162.890060</td>\n",
       "      <td>352.319336</td>\n",
       "    </tr>\n",
       "    <tr>\n",
       "      <th>max</th>\n",
       "      <td>0.752783</td>\n",
       "      <td>12.421136</td>\n",
       "      <td>299.180939</td>\n",
       "      <td>2418.110596</td>\n",
       "    </tr>\n",
       "  </tbody>\n",
       "</table>\n",
       "</div>"
      ],
      "text/plain": [
       "                 Z           CR       LAMBDA          EXP\n",
       "count  1113.000000  1113.000000  1113.000000  1113.000000\n",
       "mean      0.246319     0.742012   108.167305   314.082550\n",
       "std       0.128174     0.912564    78.582603   333.310822\n",
       "min       0.100219     0.020963     3.196712    66.766510\n",
       "25%       0.147581     0.279410    39.569210   134.086792\n",
       "50%       0.209994     0.529178    94.039917   176.695587\n",
       "75%       0.307243     0.908361   162.890060   352.319336\n",
       "max       0.752783    12.421136   299.180939  2418.110596"
      ]
     },
     "execution_count": 7,
     "metadata": {},
     "output_type": "execute_result"
    }
   ],
   "source": [
    "df.describe()"
   ]
  },
  {
   "cell_type": "code",
   "execution_count": 8,
   "metadata": {},
   "outputs": [
    {
     "data": {
      "image/png": "[encoded data removed]",
      "text/plain": [
       "<Figure size 432x288 with 1 Axes>"
      ]
     },
     "metadata": {
      "needs_background": "light"
     },
     "output_type": "display_data"
    }
   ],
   "source": [
    "plt.hist(df[\"CR\"], bins='auto')\n",
    "plt.show()"
   ]
  },
  {
   "cell_type": "code",
   "execution_count": 9,
   "metadata": {},
   "outputs": [
    {
     "data": {
      "image/png": "[encoded data removed]",
      "text/plain": [
       "<Figure size 432x288 with 1 Axes>"
      ]
     },
     "metadata": {
      "needs_background": "light"
     },
     "output_type": "display_data"
    }
   ],
   "source": [
    "plt.hist(np.log(df[\"LAMBDA\"]), bins='auto')\n",
    "plt.show()"
   ]
  },
  {
   "cell_type": "code",
   "execution_count": 10,
   "metadata": {},
   "outputs": [
    {
     "data": {
      "text/plain": [
       "66.76651"
      ]
     },
     "execution_count": 10,
     "metadata": {},
     "output_type": "execute_result"
    }
   ],
   "source": [
    "df[\"EXP\"].min()"
   ]
  },
  {
   "cell_type": "code",
   "execution_count": 11,
   "metadata": {},
   "outputs": [
    {
     "data": {
      "image/png": "[encoded data removed]",
      "text/plain": [
       "<Figure size 432x288 with 1 Axes>"
      ]
     },
     "metadata": {
      "needs_background": "light"
     },
     "output_type": "display_data"
    }
   ],
   "source": [
    "plt.hist2d(df[\"CR\"], np.log(df[\"Z\"]), bins=20)\n",
    "plt.show()"
   ]
  },
  {
   "cell_type": "code",
   "execution_count": 12,
   "metadata": {},
   "outputs": [
    {
     "data": {
      "image/png": "[encoded data removed]",
      "text/plain": [
       "<Figure size 432x288 with 1 Axes>"
      ]
     },
     "metadata": {
      "needs_background": "light"
     },
     "output_type": "display_data"
    }
   ],
   "source": [
    "plt.hist(np.log10(df[\"EXP\"]), bins=100, density=True)\n",
    "plt.show()"
   ]
  },
  {
   "cell_type": "code",
   "execution_count": 13,
   "metadata": {},
   "outputs": [
    {
     "data": {
      "image/png": "[encoded data removed]",
      "text/plain": [
       "<Figure size 432x288 with 1 Axes>"
      ]
     },
     "metadata": {
      "needs_background": "light"
     },
     "output_type": "display_data"
    }
   ],
   "source": [
    "plt.hist(df[\"Z\"], bins='auto')\n",
    "plt.show()"
   ]
  },
  {
   "cell_type": "code",
   "execution_count": 14,
   "metadata": {},
   "outputs": [
    {
     "data": {
      "text/plain": [
       "<seaborn.axisgrid.PairGrid at 0x2502b705320>"
      ]
     },
     "execution_count": 14,
     "metadata": {},
     "output_type": "execute_result"
    },
    {
     "data": {
      "image/png": "[encoded data removed]",
      "text/plain": [
       "<Figure size 540x540 with 12 Axes>"
      ]
     },
     "metadata": {
      "needs_background": "light"
     },
     "output_type": "display_data"
    }
   ],
   "source": [
    "g = sns.PairGrid(\n",
    "    df[df[\"CR\"]>0.01].rename(columns={\"LAMBDA\": r\"$\\lambda$\"})[[\"CR\", r\"$\\lambda$\", 'Z']], \n",
    "    diag_sharey=False)\n",
    "g.map_lower(sns.histplot, log_scale=True, bins=30)\n",
    "g.map_diag(sns.histplot, log_scale=True, bins=30)\n",
    "g.map_upper(sns.kdeplot, fill=True, log_scale=True)"
   ]
  },
  {
   "cell_type": "code",
   "execution_count": null,
   "metadata": {},
   "outputs": [],
   "source": []
  }
 ],
 "metadata": {
  "kernelspec": {
   "display_name": "Python 3",
   "language": "python",
   "name": "python3"
  },
  "language_info": {
   "codemirror_mode": {
    "name": "ipython",
    "version": 3
   },
   "file_extension": ".py",
   "mimetype": "text/x-python",
   "name": "python",
   "nbconvert_exporter": "python",
   "pygments_lexer": "ipython3",
   "version": "3.6.8"
  }
 },
 "nbformat": 4,
 "nbformat_minor": 2
}
