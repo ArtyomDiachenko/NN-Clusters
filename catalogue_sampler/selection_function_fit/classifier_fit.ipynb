{
 "cells": [
  {
   "cell_type": "code",
   "execution_count": 5,
   "metadata": {},
   "outputs": [],
   "source": [
    "import numpy as np\n",
    "import pandas as pd\n",
    "from sklearn.model_selection import train_test_split\n",
    "from sklearn.metrics import (\n",
    "    classification_report, \n",
    "    roc_auc_score,\n",
    "    average_precision_score\n",
    ")\n",
    "from sklearn.calibration import  calibration_curve\n",
    "from sklearn.preprocessing import MinMaxScaler\n",
    "import matplotlib.pyplot as plt\n",
    "from tqdm import tqdm\n",
    "import GPy\n",
    "import climin\n",
    "import random\n",
    "\n",
    "\n",
    "def set_random_seed(seed):\n",
    "    np.random.seed(seed)\n",
    "    random.seed(seed)"
   ]
  },
  {
   "cell_type": "code",
   "execution_count": 6,
   "metadata": {},
   "outputs": [
    {
     "data": {
      "text/html": [
       "<div>\n",
       "<style scoped>\n",
       "    .dataframe tbody tr th:only-of-type {\n",
       "        vertical-align: middle;\n",
       "    }\n",
       "\n",
       "    .dataframe tbody tr th {\n",
       "        vertical-align: top;\n",
       "    }\n",
       "\n",
       "    .dataframe thead th {\n",
       "        text-align: right;\n",
       "    }\n",
       "</style>\n",
       "<table border=\"1\" class=\"dataframe\">\n",
       "  <thead>\n",
       "    <tr style=\"text-align: right;\">\n",
       "      <th></th>\n",
       "      <th>CR</th>\n",
       "      <th>Texp</th>\n",
       "      <th>Bkg</th>\n",
       "      <th>nH</th>\n",
       "      <th>zR</th>\n",
       "      <th>LXsoft</th>\n",
       "      <th>kT</th>\n",
       "      <th>R500carcmin</th>\n",
       "      <th>DetLike</th>\n",
       "      <th>ExtLike</th>\n",
       "    </tr>\n",
       "  </thead>\n",
       "  <tbody>\n",
       "    <tr>\n",
       "      <th>29</th>\n",
       "      <td>0.003204</td>\n",
       "      <td>79.458206</td>\n",
       "      <td>0.002557</td>\n",
       "      <td>5.128280e+20</td>\n",
       "      <td>0.849797</td>\n",
       "      <td>42.8501</td>\n",
       "      <td>1.957054</td>\n",
       "      <td>1.284435</td>\n",
       "      <td>-99.0</td>\n",
       "      <td>-99.0</td>\n",
       "    </tr>\n",
       "    <tr>\n",
       "      <th>31</th>\n",
       "      <td>0.004434</td>\n",
       "      <td>75.358246</td>\n",
       "      <td>0.002354</td>\n",
       "      <td>4.980600e+20</td>\n",
       "      <td>0.842538</td>\n",
       "      <td>42.9488</td>\n",
       "      <td>2.879857</td>\n",
       "      <td>1.467060</td>\n",
       "      <td>-99.0</td>\n",
       "      <td>-99.0</td>\n",
       "    </tr>\n",
       "    <tr>\n",
       "      <th>32</th>\n",
       "      <td>0.002070</td>\n",
       "      <td>78.015572</td>\n",
       "      <td>0.002558</td>\n",
       "      <td>4.579400e+20</td>\n",
       "      <td>0.834343</td>\n",
       "      <td>42.6379</td>\n",
       "      <td>2.008850</td>\n",
       "      <td>1.198386</td>\n",
       "      <td>-99.0</td>\n",
       "      <td>-99.0</td>\n",
       "    </tr>\n",
       "    <tr>\n",
       "      <th>33</th>\n",
       "      <td>0.003002</td>\n",
       "      <td>80.180389</td>\n",
       "      <td>0.002223</td>\n",
       "      <td>4.409510e+20</td>\n",
       "      <td>0.836860</td>\n",
       "      <td>42.8300</td>\n",
       "      <td>1.546029</td>\n",
       "      <td>1.105286</td>\n",
       "      <td>-99.0</td>\n",
       "      <td>-99.0</td>\n",
       "    </tr>\n",
       "    <tr>\n",
       "      <th>34</th>\n",
       "      <td>0.019213</td>\n",
       "      <td>76.535736</td>\n",
       "      <td>0.002396</td>\n",
       "      <td>4.612940e+20</td>\n",
       "      <td>0.800603</td>\n",
       "      <td>43.5362</td>\n",
       "      <td>2.736229</td>\n",
       "      <td>1.658467</td>\n",
       "      <td>-99.0</td>\n",
       "      <td>-99.0</td>\n",
       "    </tr>\n",
       "  </tbody>\n",
       "</table>\n",
       "</div>"
      ],
      "text/plain": [
       "          CR       Texp       Bkg            nH        zR   LXsoft        kT  \\\n",
       "29  0.003204  79.458206  0.002557  5.128280e+20  0.849797  42.8501  1.957054   \n",
       "31  0.004434  75.358246  0.002354  4.980600e+20  0.842538  42.9488  2.879857   \n",
       "32  0.002070  78.015572  0.002558  4.579400e+20  0.834343  42.6379  2.008850   \n",
       "33  0.003002  80.180389  0.002223  4.409510e+20  0.836860  42.8300  1.546029   \n",
       "34  0.019213  76.535736  0.002396  4.612940e+20  0.800603  43.5362  2.736229   \n",
       "\n",
       "    R500carcmin  DetLike  ExtLike  \n",
       "29     1.284435    -99.0    -99.0  \n",
       "31     1.467060    -99.0    -99.0  \n",
       "32     1.198386    -99.0    -99.0  \n",
       "33     1.105286    -99.0    -99.0  \n",
       "34     1.658467    -99.0    -99.0  "
      ]
     },
     "execution_count": 6,
     "metadata": {},
     "output_type": "execute_result"
    }
   ],
   "source": [
    "df = pd.read_csv(\"mock_catalogue.csv\")\n",
    "df = df[(df.zR > 0.05) & (df.zR < 0.85)]\n",
    "df = df[df[\"nH\"] > 0]\n",
    "df.head()"
   ]
  },
  {
   "cell_type": "code",
   "execution_count": 7,
   "metadata": {},
   "outputs": [
    {
     "data": {
      "text/html": [
       "<div>\n",
       "<style scoped>\n",
       "    .dataframe tbody tr th:only-of-type {\n",
       "        vertical-align: middle;\n",
       "    }\n",
       "\n",
       "    .dataframe tbody tr th {\n",
       "        vertical-align: top;\n",
       "    }\n",
       "\n",
       "    .dataframe thead th {\n",
       "        text-align: right;\n",
       "    }\n",
       "</style>\n",
       "<table border=\"1\" class=\"dataframe\">\n",
       "  <thead>\n",
       "    <tr style=\"text-align: right;\">\n",
       "      <th></th>\n",
       "      <th>CR</th>\n",
       "      <th>Texp</th>\n",
       "      <th>nH</th>\n",
       "      <th>Z</th>\n",
       "    </tr>\n",
       "  </thead>\n",
       "  <tbody>\n",
       "    <tr>\n",
       "      <th>count</th>\n",
       "      <td>602084.000000</td>\n",
       "      <td>602084.000000</td>\n",
       "      <td>6.020840e+05</td>\n",
       "      <td>602084.000000</td>\n",
       "    </tr>\n",
       "    <tr>\n",
       "      <th>mean</th>\n",
       "      <td>0.031347</td>\n",
       "      <td>211.717067</td>\n",
       "      <td>8.398032e+20</td>\n",
       "      <td>0.429185</td>\n",
       "    </tr>\n",
       "    <tr>\n",
       "      <th>std</th>\n",
       "      <td>0.167426</td>\n",
       "      <td>416.252861</td>\n",
       "      <td>1.209410e+21</td>\n",
       "      <td>0.198605</td>\n",
       "    </tr>\n",
       "    <tr>\n",
       "      <th>min</th>\n",
       "      <td>0.000225</td>\n",
       "      <td>24.277424</td>\n",
       "      <td>4.735160e+19</td>\n",
       "      <td>0.050006</td>\n",
       "    </tr>\n",
       "    <tr>\n",
       "      <th>25%</th>\n",
       "      <td>0.005170</td>\n",
       "      <td>100.445672</td>\n",
       "      <td>2.715750e+20</td>\n",
       "      <td>0.268691</td>\n",
       "    </tr>\n",
       "    <tr>\n",
       "      <th>50%</th>\n",
       "      <td>0.010195</td>\n",
       "      <td>139.859901</td>\n",
       "      <td>4.803930e+20</td>\n",
       "      <td>0.412067</td>\n",
       "    </tr>\n",
       "    <tr>\n",
       "      <th>75%</th>\n",
       "      <td>0.023268</td>\n",
       "      <td>199.997295</td>\n",
       "      <td>8.554553e+20</td>\n",
       "      <td>0.580620</td>\n",
       "    </tr>\n",
       "    <tr>\n",
       "      <th>max</th>\n",
       "      <td>50.458892</td>\n",
       "      <td>27913.451172</td>\n",
       "      <td>2.126690e+22</td>\n",
       "      <td>0.849997</td>\n",
       "    </tr>\n",
       "  </tbody>\n",
       "</table>\n",
       "</div>"
      ],
      "text/plain": [
       "                  CR           Texp            nH              Z\n",
       "count  602084.000000  602084.000000  6.020840e+05  602084.000000\n",
       "mean        0.031347     211.717067  8.398032e+20       0.429185\n",
       "std         0.167426     416.252861  1.209410e+21       0.198605\n",
       "min         0.000225      24.277424  4.735160e+19       0.050006\n",
       "25%         0.005170     100.445672  2.715750e+20       0.268691\n",
       "50%         0.010195     139.859901  4.803930e+20       0.412067\n",
       "75%         0.023268     199.997295  8.554553e+20       0.580620\n",
       "max        50.458892   27913.451172  2.126690e+22       0.849997"
      ]
     },
     "execution_count": 7,
     "metadata": {},
     "output_type": "execute_result"
    }
   ],
   "source": [
    "features = [\"CR\", \"Texp\", \"nH\", \"zR\"]\n",
    "df[features].rename(columns={'zR':'Z'}).describe()"
   ]
  },
  {
   "cell_type": "code",
   "execution_count": 8,
   "metadata": {},
   "outputs": [],
   "source": [
    "features_to_log = [\"CR\", \"Texp\", 'nH']\n",
    "\n",
    "df_log = df.copy()\n",
    "df_log[features_to_log] = np.log(df[features_to_log])"
   ]
  },
  {
   "cell_type": "code",
   "execution_count": 9,
   "metadata": {},
   "outputs": [
    {
     "name": "stdout",
     "output_type": "stream",
     "text": [
      "0    599261\n",
      "1      2823\n",
      "Name: detected, dtype: int64\n"
     ]
    }
   ],
   "source": [
    "L_Ext_cut = 13\n",
    "L_Det_cut = 0\n",
    "\n",
    "df_log[\"detected\"] = (df_log[\"DetLike\"] > L_Det_cut) & (df_log[\"ExtLike\"] > L_Ext_cut)\n",
    "df_log[\"detected\"] = df_log[\"detected\"].astype(int)\n",
    "\n",
    "print(df_log.detected.value_counts())"
   ]
  },
  {
   "cell_type": "code",
   "execution_count": 10,
   "metadata": {},
   "outputs": [],
   "source": [
    "X = df_log[features].to_numpy()\n",
    "y = df_log[\"detected\"].to_numpy()\n",
    "\n",
    "X_train, X_test, y_train, y_test = train_test_split(\n",
    "    X, y, test_size=1/3, random_state=4, stratify=y, shuffle=True\n",
    ")\n",
    "\n",
    "scaler = MinMaxScaler()\n",
    "X_train = scaler.fit_transform(X_train)\n",
    "X_test = scaler.transform(X_test)"
   ]
  },
  {
   "cell_type": "code",
   "execution_count": 11,
   "metadata": {},
   "outputs": [
    {
     "data": {
      "text/html": [
       "<style type=\"text/css\">\n",
       ".pd{\n",
       "    font-family: \"Courier New\", Courier, monospace !important;\n",
       "    width: 100%;\n",
       "    padding: 3px;\n",
       "}\n",
       "</style>\n",
       "\n",
       "<p class=pd>\n",
       "<b>Model</b>: SVGP<br>\n",
       "<b>Objective</b>: 779723.5712512108<br>\n",
       "<b>Number of Parameters</b>: 620<br>\n",
       "<b>Number of Optimization Parameters</b>: 620<br>\n",
       "<b>Updates</b>: True<br>\n",
       "</p>\n",
       "<style type=\"text/css\">\n",
       ".tg  {font-family:\"Courier New\", Courier, monospace !important;padding:2px 3px;word-break:normal;border-collapse:collapse;border-spacing:0;border-color:#DCDCDC;margin:0px auto;width:100%;}\n",
       ".tg td{font-family:\"Courier New\", Courier, monospace !important;font-weight:bold;color:#444;background-color:#F7FDFA;border-style:solid;border-width:1px;overflow:hidden;word-break:normal;border-color:#DCDCDC;}\n",
       ".tg th{font-family:\"Courier New\", Courier, monospace !important;font-weight:normal;color:#fff;background-color:#26ADE4;border-style:solid;border-width:1px;overflow:hidden;word-break:normal;border-color:#DCDCDC;}\n",
       ".tg .tg-left{font-family:\"Courier New\", Courier, monospace !important;font-weight:normal;text-align:left;}\n",
       ".tg .tg-center{font-family:\"Courier New\", Courier, monospace !important;font-weight:normal;text-align:center;}\n",
       ".tg .tg-right{font-family:\"Courier New\", Courier, monospace !important;font-weight:normal;text-align:right;}\n",
       "</style>\n",
       "<table class=\"tg\"><tr><th><b>  SVGP.          </b></th><th><b>   value</b></th><th><b>constraints</b></th><th><b>priors</b></th></tr>\n",
       "<tr><td class=tg-left>  inducing inputs</td><td class=tg-right> (30, 4)</td><td class=tg-center>           </td><td class=tg-center>      </td></tr>\n",
       "<tr><td class=tg-left>  rbf.variance   </td><td class=tg-right>     1.0</td><td class=tg-center>    +ve    </td><td class=tg-center>      </td></tr>\n",
       "<tr><td class=tg-left>  rbf.lengthscale</td><td class=tg-right>    (4,)</td><td class=tg-center>    +ve    </td><td class=tg-center>      </td></tr>\n",
       "<tr><td class=tg-left>  q_u_chol       </td><td class=tg-right>(465, 1)</td><td class=tg-center>           </td><td class=tg-center>      </td></tr>\n",
       "<tr><td class=tg-left>  q_u_mean       </td><td class=tg-right> (30, 1)</td><td class=tg-center>           </td><td class=tg-center>      </td></tr>\n",
       "</table>"
      ],
      "text/plain": [
       "<GPy.core.svgp.SVGP at 0x235291fd160>"
      ]
     },
     "execution_count": 11,
     "metadata": {},
     "output_type": "execute_result"
    }
   ],
   "source": [
    "set_random_seed(4)\n",
    "\n",
    "k = GPy.kern.RBF(\n",
    "    input_dim=len(features),\n",
    "    variance=1,\n",
    "    lengthscale=np.ones(len(features)),\n",
    "    ARD=True,\n",
    "    name=\"rbf\"\n",
    ")\n",
    "\n",
    "likelihood = GPy.likelihoods.Bernoulli()\n",
    "\n",
    "m = GPy.core.SVGP(\n",
    "    X_train,\n",
    "    y_train.reshape(-1, 1),\n",
    "    np.random.rand(30, len(features)),\n",
    "    kernel=k, \n",
    "    likelihood=likelihood,\n",
    "    batchsize=2**16,\n",
    ")\n",
    "\n",
    "m"
   ]
  },
  {
   "cell_type": "code",
   "execution_count": 12,
   "metadata": {},
   "outputs": [
    {
     "name": "stderr",
     "output_type": "stream",
     "text": [
      "loss: 3118.0715720749536: : 6001it [59:25,  1.68it/s]                         \n"
     ]
    }
   ],
   "source": [
    "n_tot = 6_000\n",
    "pbar = tqdm(total=n_tot)\n",
    "\n",
    "loss_arr = []\n",
    "\n",
    "opt = climin.Adadelta(\n",
    "    m.optimizer_array,\n",
    "    m.stochastic_grad,\n",
    "    step_rate=0.1,\n",
    "    momentum=0,\n",
    ")\n",
    "\n",
    "def callback(i):\n",
    "    loss = -m.log_likelihood()\n",
    "    loss_arr.append(loss)\n",
    "    pbar.set_description(f\"loss: {loss}\")\n",
    "    pbar.update(1)\n",
    "    if i['n_iter'] > n_tot:\n",
    "        return True\n",
    "    return False\n",
    "\n",
    "inf = opt.minimize_until(callback)\n",
    "\n",
    "pbar.close()"
   ]
  },
  {
   "cell_type": "code",
   "execution_count": 13,
   "metadata": {},
   "outputs": [
    {
     "data": {
      "image/png": "[encoded data removed]",
      "text/plain": [
       "<Figure size 432x288 with 1 Axes>"
      ]
     },
     "metadata": {
      "needs_background": "light"
     },
     "output_type": "display_data"
    }
   ],
   "source": [
    "plt.plot(loss_arr[:])\n",
    "plt.show()"
   ]
  },
  {
   "cell_type": "code",
   "execution_count": 16,
   "metadata": {},
   "outputs": [
    {
     "data": {
      "image/png": "[encoded data removed]",
      "text/plain": [
       "<Figure size 432x288 with 1 Axes>"
      ]
     },
     "metadata": {
      "needs_background": "light"
     },
     "output_type": "display_data"
    }
   ],
   "source": [
    "y_pred = m.predict(X_test)\n",
    "\n",
    "true_pos, pred_pos = calibration_curve(y_test, y_pred[0], n_bins=8)\n",
    "\n",
    "plt.plot(pred_pos, true_pos, label='Calibration curve')\n",
    "x = np.linspace(0, 1, 100)\n",
    "plt.plot(x, x, label='Perfectly calibrated')\n",
    "plt.legend()\n",
    "plt.xlabel('Predicted probability')\n",
    "plt.ylabel('True probability')\n",
    "plt.show()"
   ]
  },
  {
   "cell_type": "code",
   "execution_count": 15,
   "metadata": {},
   "outputs": [
    {
     "name": "stdout",
     "output_type": "stream",
     "text": [
      "Train AP 0.7133112228420829\n",
      "Test AP 0.6907097507589239\n"
     ]
    }
   ],
   "source": [
    "print(\"Train AP\", average_precision_score(y_train, m.predict(X_train)[0]))\n",
    "print(\"Test AP\", average_precision_score(y_test, m.predict(X_test)[0]))"
   ]
  },
  {
   "cell_type": "code",
   "execution_count": 73,
   "metadata": {},
   "outputs": [
    {
     "name": "stdout",
     "output_type": "stream",
     "text": [
      "              precision    recall  f1-score   support\n",
      "\n",
      "           0       1.00      1.00      1.00    199754\n",
      "           1       0.73      0.50      0.59       941\n",
      "\n",
      "    accuracy                           1.00    200695\n",
      "   macro avg       0.86      0.75      0.80    200695\n",
      "weighted avg       1.00      1.00      1.00    200695\n",
      "\n",
      "ROC AUC: 0.7498276360263187\n"
     ]
    }
   ],
   "source": [
    "y_pred = (m.predict(X_test)[0] > 0.5).astype(int)\n",
    "print(classification_report(y_test, y_pred))\n",
    "print(\"ROC AUC:\", roc_auc_score(y_test, y_pred))"
   ]
  },
  {
   "cell_type": "code",
   "execution_count": 74,
   "metadata": {},
   "outputs": [
    {
     "name": "stdout",
     "output_type": "stream",
     "text": [
      "\n",
      "Name : SVGP\n",
      "Objective : 3118.0715720749536\n",
      "Number of Parameters : 620\n",
      "Number of Optimization Parameters : 620\n",
      "Updates : True\n",
      "Parameters:\n",
      "  \u001b[1mSVGP.          \u001b[0;0m  |               value  |  constraints  |  priors\n",
      "  \u001b[1minducing_inputs\u001b[0;0m  |             (30, 4)  |               |        \n",
      "  \u001b[1mrbf.variance   \u001b[0;0m  |  6.1489315814562975  |      +ve      |        \n",
      "  \u001b[1mrbf.lengthscale\u001b[0;0m  |                (4,)  |      +ve      |        \n",
      "  \u001b[1mq_u_chol       \u001b[0;0m  |            (465, 1)  |               |        \n",
      "  \u001b[1mq_u_mean       \u001b[0;0m  |             (30, 1)  |               |        \n",
      "  \u001b[1mindex\u001b[0;0m  |  SVGP.rbf.lengthscale  |  constraints  |  priors\n",
      "  \u001b[1m[0]  \u001b[0;0m  |            0.37967254  |      +ve      |        \n",
      "  \u001b[1m[1]  \u001b[0;0m  |            0.65678953  |      +ve      |        \n",
      "  \u001b[1m[2]  \u001b[0;0m  |            1.00036616  |      +ve      |        \n",
      "  \u001b[1m[3]  \u001b[0;0m  |            1.38038324  |      +ve      |        \n"
     ]
    }
   ],
   "source": [
    "print(m)\n",
    "print(m.kern.lengthscale)"
   ]
  },
  {
   "cell_type": "code",
   "execution_count": 75,
   "metadata": {},
   "outputs": [],
   "source": [
    "model_parameters = m.param_array\n",
    "np.save('model_parameters.npy', model_parameters)\n",
    "\n",
    "scaler_min = scaler.min_\n",
    "scaler_scale = scaler.scale_\n",
    "scaler_parameters = np.array([scaler_min, scaler_scale])\n",
    "\n",
    "np.save('scaler_parameters.npy', scaler_parameters)"
   ]
  }
 ],
 "metadata": {
  "kernelspec": {
   "display_name": "Python 3",
   "language": "python",
   "name": "python3"
  },
  "language_info": {
   "codemirror_mode": {
    "name": "ipython",
    "version": 3
   },
   "file_extension": ".py",
   "mimetype": "text/x-python",
   "name": "python",
   "nbconvert_exporter": "python",
   "pygments_lexer": "ipython3",
   "version": "3.6.8"
  }
 },
 "nbformat": 4,
 "nbformat_minor": 2
}
